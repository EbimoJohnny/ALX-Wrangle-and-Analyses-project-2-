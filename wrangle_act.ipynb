{
 "cells": [
  {
   "cell_type": "markdown",
   "id": "04729e3c",
   "metadata": {},
   "source": [
    "# GATHERING"
   ]
  },
  {
   "cell_type": "code",
   "execution_count": null,
   "id": "fa325f17",
   "metadata": {
    "scrolled": false
   },
   "outputs": [],
   "source": [
    "pip install tweepy"
   ]
  },
  {
   "cell_type": "code",
   "execution_count": null,
   "id": "689f5abf",
   "metadata": {},
   "outputs": [],
   "source": [
    "#inportation of all libaries\n",
    "import os\n",
    "import json\n",
    "import pandas as pd\n",
    "import numpy as np\n",
    "import matplotlib.pyplot as plt\n",
    "import seaborn as sns\n",
    "import requests\n",
    "import tweepy\n",
    "from tweepy import OAuthHandler\n",
    "import json\n",
    "from timeit import default_timer as timer\n",
    "from IPython.display import Image\n"
   ]
  },
  {
   "cell_type": "markdown",
   "id": "42ac3ca4",
   "metadata": {},
   "source": [
    "### Enhanced Twitter Archive"
   ]
  },
  {
   "cell_type": "code",
   "execution_count": null,
   "id": "d7f82e41",
   "metadata": {},
   "outputs": [],
   "source": [
    "#import of the enhanced twitter archieve dataset\n",
    "twitter_archive_enhanced=pd.read_csv(r'C:\\Users\\Samuel\\Desktop\\ALX\\project 2\\twitter-archive-enhanced.csv')"
   ]
  },
  {
   "cell_type": "code",
   "execution_count": null,
   "id": "fb32f33f",
   "metadata": {},
   "outputs": [],
   "source": [
    "twitter_archive_enhanced"
   ]
  },
  {
   "cell_type": "markdown",
   "id": "4dc0f67c",
   "metadata": {},
   "source": [
    "### Image Predictions Datset"
   ]
  },
  {
   "cell_type": "code",
   "execution_count": null,
   "id": "ee02acc0",
   "metadata": {},
   "outputs": [],
   "source": [
    "#import of the image prediction dataset by use of the request get method\n",
    "url='https://d17h27t6h515a5.cloudfront.net/topher/2017/August/599fd2ad_image-predictions/image-predictions.tsv'\n",
    "response=requests.get(url)"
   ]
  },
  {
   "cell_type": "code",
   "execution_count": null,
   "id": "fad7f13d",
   "metadata": {},
   "outputs": [],
   "source": [
    "#creatation of a folder and we checck if it is already existing\n",
    "folder_name = 'image_prediction'\n",
    "if not os.path.exists(folder_name):\n",
    "    os.makedirs(folder_name)"
   ]
  },
  {
   "cell_type": "code",
   "execution_count": null,
   "id": "f3b83586",
   "metadata": {},
   "outputs": [],
   "source": [
    "with open(os.path.join(folder_name,url.split('/')[-1]),mode='wb') as file:\n",
    "        file.write(response.content)"
   ]
  },
  {
   "cell_type": "code",
   "execution_count": null,
   "id": "da3be179",
   "metadata": {},
   "outputs": [],
   "source": [
    "#confirmation of the file if it is saved\n",
    "os.listdir(folder_name)"
   ]
  },
  {
   "cell_type": "code",
   "execution_count": null,
   "id": "9132c636",
   "metadata": {},
   "outputs": [],
   "source": [
    "#read the file using pandas \n",
    "image_prediction=pd.read_csv('image_prediction\\image-predictions.tsv',sep='\\t')"
   ]
  },
  {
   "cell_type": "code",
   "execution_count": null,
   "id": "39ea1bd6",
   "metadata": {
    "scrolled": true
   },
   "outputs": [],
   "source": [
    "#view the image prediction dataset\n",
    "image_prediction"
   ]
  },
  {
   "cell_type": "code",
   "execution_count": null,
   "id": "18b74e66",
   "metadata": {},
   "outputs": [],
   "source": [
    "image_prediction.info()"
   ]
  },
  {
   "cell_type": "markdown",
   "id": "31a76baf",
   "metadata": {},
   "source": [
    "## Additional data from the Twitter API"
   ]
  },
  {
   "cell_type": "code",
   "execution_count": null,
   "id": "43acfa79",
   "metadata": {},
   "outputs": [],
   "source": [
    "#The above is the code to run using a develper account.\n",
    "#consumer_key = 'My KEY'\n",
    "#consumer_secret = 'My SECRET'\n",
    "#access_token = 'My TOKEN'\n",
    "#access_secret = 'My Access SECRET'\n",
    "#\n",
    "#auth = tweepy.OAuthHandler(consumer_key, consumer_secret)\n",
    "#auth.set_access_token(access_token, access_secret)\n",
    "#\n",
    "#api = tweepy.API(auth)"
   ]
  },
  {
   "cell_type": "code",
   "execution_count": null,
   "id": "c129d6bf",
   "metadata": {},
   "outputs": [],
   "source": [
    "#gathering of the twitter api and we get only the tweet ID, retweet count and favourite count valaues only.\n",
    "#Considering the unavailiabity of my develpoer account i was given the data handy for the sake of time constarint. \n",
    "#which made me to use the below code to use the data that was gotten by a different developer account \n",
    "\n",
    "listing=[]\n",
    "count=0\n",
    "filing='tweet-json.txt'\n",
    "with open(filing, encoding='utf-8') as file:\n",
    "    for the_file in file:\n",
    "        count +=1\n",
    "        json_file=file.readline()\n",
    "        mydata=(json.loads(the_file))\n",
    "        tweet_id=mydata['id']\n",
    "        retweet_count=mydata['retweet_count']\n",
    "        favorite_count=mydata['favorite_count']\n",
    "        listing.append({'tweet_id':tweet_id,'retweet_count':retweet_count,'favorite_count':favorite_count})\n",
    "        \n",
    "        twitter_api=pd.DataFrame(listing,columns=['tweet_id','retweet_count','favorite_count'])"
   ]
  },
  {
   "cell_type": "markdown",
   "id": "5bf5da7a",
   "metadata": {},
   "source": [
    "# ACCESSING"
   ]
  },
  {
   "cell_type": "markdown",
   "id": "a8a9edeb",
   "metadata": {},
   "source": [
    "#### Twitter Archive Enhanced"
   ]
  },
  {
   "cell_type": "code",
   "execution_count": null,
   "id": "64538674",
   "metadata": {
    "scrolled": true
   },
   "outputs": [],
   "source": [
    "#we view only the first five rows\n",
    "twitter_archive_enhanced.head()"
   ]
  },
  {
   "cell_type": "code",
   "execution_count": null,
   "id": "630a1a20",
   "metadata": {},
   "outputs": [],
   "source": [
    "#we randomly view 10 rows of the dataset\n",
    "twitter_archive_enhanced.sample(10)"
   ]
  },
  {
   "cell_type": "code",
   "execution_count": null,
   "id": "d19e96c5",
   "metadata": {
    "scrolled": true
   },
   "outputs": [],
   "source": [
    "#we get the information of the dataset about the datatype,count and the total entries for the dataset\n",
    "twitter_archive_enhanced.info()"
   ]
  },
  {
   "cell_type": "code",
   "execution_count": null,
   "id": "d57521c2",
   "metadata": {},
   "outputs": [],
   "source": [
    "#This help us understand the datset better by viewing the mean,standard deviation, maximumm etc \n",
    "twitter_archive_enhanced.describe()"
   ]
  },
  {
   "cell_type": "code",
   "execution_count": null,
   "id": "6dde0916",
   "metadata": {},
   "outputs": [],
   "source": [
    "# we still attempt other method to checck for dduplicated in the tweet ID column\n",
    "twitter_archive_enhanced.tweet_id.nunique()"
   ]
  },
  {
   "cell_type": "code",
   "execution_count": null,
   "id": "6984ae9f",
   "metadata": {},
   "outputs": [],
   "source": [
    "#we check if for the retweet status column tthere exist empty values\n",
    "twitter_archive_enhanced.retweeted_status_user_id.isna().value_counts()"
   ]
  },
  {
   "cell_type": "code",
   "execution_count": null,
   "id": "ff78ab6f",
   "metadata": {
    "scrolled": true
   },
   "outputs": [],
   "source": [
    "# We get the sum of each columns having empty or null values\n",
    "twitter_archive_enhanced.isna().sum()"
   ]
  },
  {
   "cell_type": "code",
   "execution_count": null,
   "id": "c25b679c",
   "metadata": {
    "scrolled": false
   },
   "outputs": [],
   "source": [
    "# we view the twitter rating numerators to check if there are problems\n",
    "twitter_archive_enhanced.rating_numerator.value_counts()"
   ]
  },
  {
   "cell_type": "markdown",
   "id": "4424da51",
   "metadata": {},
   "source": [
    "#### Quality Issue 5\n",
    "* There are some rating for numerators that are above 10 which is not right"
   ]
  },
  {
   "cell_type": "code",
   "execution_count": null,
   "id": "08b15239",
   "metadata": {
    "scrolled": true
   },
   "outputs": [],
   "source": [
    "# we view the twitter rating denominators to check if there are problems\n",
    "twitter_archive_enhanced.rating_denominator.value_counts()"
   ]
  },
  {
   "cell_type": "code",
   "execution_count": null,
   "id": "5fb2bd6a",
   "metadata": {
    "scrolled": true
   },
   "outputs": [],
   "source": [
    "#we view regualar expression that may be having conflicing values on the numerators or denominators\n",
    "with pd.option_context('max_colwidth', 200):\n",
    "    display(twitter_archive_enhanced[twitter_archive_enhanced['text'].str.contains(r\"(\\d+\\.\\d*\\/\\d+)\")]\n",
    "            [['tweet_id', 'text', 'rating_numerator', 'rating_denominator']])"
   ]
  },
  {
   "cell_type": "code",
   "execution_count": null,
   "id": "5d873891",
   "metadata": {
    "scrolled": true
   },
   "outputs": [],
   "source": [
    "#we attempt to view the unique values of the dog age grouping\n",
    "group=twitter_archive_enhanced[['tweet_id','doggo','floofer','pupper','puppo']]\n",
    "group"
   ]
  },
  {
   "cell_type": "code",
   "execution_count": null,
   "id": "1a25994e",
   "metadata": {},
   "outputs": [],
   "source": [
    "with pd.option_context('max_colwidth', 200):\n",
    "    display(twitter_archive_enhanced[['tweet_id', 'source']])"
   ]
  },
  {
   "cell_type": "markdown",
   "id": "9025d96b",
   "metadata": {},
   "source": [
    "## Image Prediction"
   ]
  },
  {
   "cell_type": "code",
   "execution_count": null,
   "id": "513adec9",
   "metadata": {
    "scrolled": true
   },
   "outputs": [],
   "source": [
    "#we view the image prediction value for the top 5 entries\n",
    "image_prediction.sample(7)"
   ]
  },
  {
   "cell_type": "code",
   "execution_count": null,
   "id": "9a051d44",
   "metadata": {},
   "outputs": [],
   "source": [
    "#we get the information of the dataset about the datatype,count and the total entries for tthe dataset\n",
    "image_prediction.info()"
   ]
  },
  {
   "cell_type": "code",
   "execution_count": null,
   "id": "422696b9",
   "metadata": {},
   "outputs": [],
   "source": [
    "#we try to understand the dataset better by viewing the histogram for each coolumn \n",
    "image_prediction.hist(figsize=(12,13))"
   ]
  },
  {
   "cell_type": "code",
   "execution_count": null,
   "id": "754ea711",
   "metadata": {},
   "outputs": [],
   "source": [
    "#to check is there is null value in each column\n",
    "image_prediction.isna().sum()"
   ]
  },
  {
   "cell_type": "code",
   "execution_count": null,
   "id": "fcbcef69",
   "metadata": {},
   "outputs": [],
   "source": [
    "#to check if there is duplicated images in the column\n",
    "image_prediction.jpg_url.duplicated(keep=False).value_counts()"
   ]
  },
  {
   "cell_type": "code",
   "execution_count": null,
   "id": "dbe424f5",
   "metadata": {},
   "outputs": [],
   "source": [
    "#To check for the count of each value in the image number column\n",
    "image_prediction.img_num.value_counts()"
   ]
  },
  {
   "cell_type": "code",
   "execution_count": null,
   "id": "f513ddba",
   "metadata": {
    "scrolled": true
   },
   "outputs": [],
   "source": [
    "#check if there exist duplicates in the tweet id column\n",
    "image_prediction.tweet_id.duplicated(keep=False).value_counts()\n"
   ]
  },
  {
   "cell_type": "code",
   "execution_count": null,
   "id": "d6c92c57",
   "metadata": {
    "scrolled": true
   },
   "outputs": [],
   "source": [
    "##check if there exist duplicates in the p1 dog column\n",
    "\n",
    "image_prediction.p1_dog.duplicated(keep=False).sum()"
   ]
  },
  {
   "cell_type": "code",
   "execution_count": null,
   "id": "de9ed667",
   "metadata": {},
   "outputs": [],
   "source": [
    "##check if there exist duplicates in the p2 dog column\n",
    "\n",
    "image_prediction.p2_dog.duplicated(keep=False).value_counts()"
   ]
  },
  {
   "cell_type": "code",
   "execution_count": null,
   "id": "c61059a8",
   "metadata": {},
   "outputs": [],
   "source": [
    "##check if there exist duplicates in the p3 dog column\n",
    "\n",
    "image_prediction.p3_dog.duplicated(keep=False).value_counts()\n"
   ]
  },
  {
   "cell_type": "code",
   "execution_count": null,
   "id": "f2005767",
   "metadata": {},
   "outputs": [],
   "source": [
    "#to check for values in p1_dog,p2_dog and p3_dog that are having false and otherwise\n",
    "image_prediction[[\"p1_dog\",\"p2_dog\",\"p3_dog\"]].apply(lambda x:\n",
    "    (x[0] == False and x[1] == False and x[2] == False) \n",
    "    , axis = 1).value_counts()"
   ]
  },
  {
   "cell_type": "markdown",
   "id": "450d444f",
   "metadata": {},
   "source": [
    "## Twitter API"
   ]
  },
  {
   "cell_type": "code",
   "execution_count": null,
   "id": "df0c0531",
   "metadata": {
    "scrolled": true
   },
   "outputs": [],
   "source": [
    "twitter_api.head()"
   ]
  },
  {
   "cell_type": "code",
   "execution_count": null,
   "id": "899d4ed3",
   "metadata": {},
   "outputs": [],
   "source": [
    "twitter_api.sample(8)"
   ]
  },
  {
   "cell_type": "code",
   "execution_count": null,
   "id": "e1f55c47",
   "metadata": {
    "scrolled": true
   },
   "outputs": [],
   "source": [
    "# to view the information for the dataset\n",
    "twitter_api.info()"
   ]
  },
  {
   "cell_type": "code",
   "execution_count": null,
   "id": "60bc4d7a",
   "metadata": {},
   "outputs": [],
   "source": [
    "#to ccheck if there is null values in the dataset\n",
    "twitter_api.isna().sum()"
   ]
  },
  {
   "cell_type": "code",
   "execution_count": null,
   "id": "a7e526fd",
   "metadata": {},
   "outputs": [],
   "source": [
    "# check for duplicates on the tweet id column\n",
    "twitter_api.tweet_id.duplicated().sum()"
   ]
  },
  {
   "cell_type": "code",
   "execution_count": null,
   "id": "d0ef5859",
   "metadata": {},
   "outputs": [],
   "source": [
    "#to check the shape of the dataset\n",
    "twitter_api.shape"
   ]
  },
  {
   "cell_type": "markdown",
   "id": "6c1b8395",
   "metadata": {},
   "source": [
    "### Quality Issue\n",
    "\n",
    "* twitter_archive_enhanced- Null values for column 2,3,7,8,9\n",
    "* twitter_archive_enhanced- incomplete data for index 1,2,6,7,8,9\n",
    "* twitter_archive_enhanced- retweet status id have duplictes\n",
    "* twitter_archive_enhanced- there are empty values in 6 columns\n",
    "* twitter_archive_enhanced- incorrect datatype for index 8\n",
    "* twitter_archive_enhanced-- All the tweet id are unique so no duplicate* the above contain records of rating of numerators that were not correctly recorded\n",
    "* twitter_archive_enhanced- split of the retweeted_status_timestamp column\n",
    "* twitter_archive_enhanced- replacing the datatype of  the retweeted_status_timestamp\n",
    "* image prediction- the names of (p1,p2,p3) are having underscore hence it may  not be easy to understand\n",
    "* image prediction- Some of the images have duplicates\n",
    "* image-prediction- The img_num column wasn't important"
   ]
  },
  {
   "cell_type": "markdown",
   "id": "f86644a1",
   "metadata": {},
   "source": [
    "### Tidyness Issues for twitter_archive_enhanced\n",
    "\n",
    "* twitter_archive_enhanced- The dog age group could have been merged to reduce the number of column\n",
    "* twitter_archive_enhanced- The source column need only the source of information not the whole link\n",
    "* image_prediction- uncatogorising of the p1,p2,p3 values \n",
    "* image_prediction- p1_conf,p2_conf,p3_conf should have been grouped"
   ]
  },
  {
   "cell_type": "markdown",
   "id": "c0c748e7",
   "metadata": {},
   "source": [
    "# CLEANING"
   ]
  },
  {
   "cell_type": "markdown",
   "id": "5df4a00e",
   "metadata": {},
   "source": [
    "## twitter_archive_enhanced"
   ]
  },
  {
   "cell_type": "code",
   "execution_count": null,
   "id": "a25b743b",
   "metadata": {},
   "outputs": [],
   "source": []
  },
  {
   "cell_type": "markdown",
   "id": "5d9b6eb5",
   "metadata": {},
   "source": [
    "## Define\n",
    "* Drop all columns that are not important for this analysis"
   ]
  },
  {
   "cell_type": "markdown",
   "id": "aa601d82",
   "metadata": {},
   "source": [
    "## Code"
   ]
  },
  {
   "cell_type": "code",
   "execution_count": null,
   "id": "b01606e3",
   "metadata": {},
   "outputs": [],
   "source": [
    "#we drop all unneessary columns to reduce the size\n",
    "twitter_archive_enhanced_cleaning=twitter_archive_enhanced_cleaning.drop(['in_reply_to_status_id','in_reply_to_user_id','source','retweeted_status_id','retweeted_status_user_id','retweeted_status_timestamp','expanded_urls'],axis=1)"
   ]
  },
  {
   "cell_type": "markdown",
   "id": "64c0f0f2",
   "metadata": {},
   "source": [
    "## Test"
   ]
  },
  {
   "cell_type": "code",
   "execution_count": null,
   "id": "f4cd3aa9",
   "metadata": {},
   "outputs": [],
   "source": [
    "twitter_archive_enhanced_cleaning.info()"
   ]
  },
  {
   "cell_type": "markdown",
   "id": "cebe150f",
   "metadata": {
    "scrolled": true
   },
   "source": [
    "## Define\n",
    "* Change the values of the numerator rating column that are not correct "
   ]
  },
  {
   "cell_type": "markdown",
   "id": "4de96d68",
   "metadata": {},
   "source": [
    "## Code"
   ]
  },
  {
   "cell_type": "code",
   "execution_count": null,
   "id": "98d69f0b",
   "metadata": {},
   "outputs": [],
   "source": [
    "with pd.option_context('max_colwidth', 200):\n",
    "    display(twitter_archive_enhanced_cleaning[twitter_archive_enhanced_cleaning['text'].str.contains(r\"(\\d+\\.\\d*\\/\\d+)\")]\n",
    "            [['tweet_id', 'text', 'rating_numerator', 'rating_denominator']])"
   ]
  },
  {
   "cell_type": "code",
   "execution_count": null,
   "id": "aad84488",
   "metadata": {},
   "outputs": [],
   "source": [
    "# we manuallyy change the numerators that are wrongly gathered based on the values on the text\n",
    "twitter_archive_enhanced_cleaning.loc[twitter_archive_enhanced_cleaning.tweet_id==883482846933004288,'rating_numerator']=13.5\n",
    "twitter_archive_enhanced_cleaning.loc[twitter_archive_enhanced_cleaning.tweet_id==681340665377193984,'rating_numerator']=9.5\n",
    "twitter_archive_enhanced_cleaning.loc[twitter_archive_enhanced_cleaning.tweet_id==680494726643068929,'rating_numerator']=11.26\n",
    "twitter_archive_enhanced_cleaning.loc[twitter_archive_enhanced_cleaning.tweet_id==786709082849828864,'rating_numerator']=9.75\n",
    "twitter_archive_enhanced_cleaning.loc[twitter_archive_enhanced_cleaning.tweet_id==778027034220126208,'rating_numerator']=11.27\n"
   ]
  },
  {
   "cell_type": "markdown",
   "id": "8b80391e",
   "metadata": {},
   "source": [
    "## Test"
   ]
  },
  {
   "cell_type": "code",
   "execution_count": null,
   "id": "80e446f8",
   "metadata": {},
   "outputs": [],
   "source": [
    "with pd.option_context('max_colwidth', 200):\n",
    "    display(twitter_archive_enhanced_cleaning[twitter_archive_enhanced_cleaning['text'].str.contains(r\"(\\d+\\.\\d*\\/\\d+)\")]\n",
    "            [['tweet_id', 'text', 'rating_numerator', 'rating_denominator']])"
   ]
  },
  {
   "cell_type": "code",
   "execution_count": null,
   "id": "dae23e59",
   "metadata": {},
   "outputs": [],
   "source": []
  },
  {
   "cell_type": "markdown",
   "id": "b94432e3",
   "metadata": {},
   "source": [
    "## Define \n",
    "* we create a rating column which is the division of the nemerator and denomiator\n"
   ]
  },
  {
   "cell_type": "markdown",
   "id": "40fc86a0",
   "metadata": {},
   "source": [
    "## Code"
   ]
  },
  {
   "cell_type": "code",
   "execution_count": null,
   "id": "96ae3e45",
   "metadata": {},
   "outputs": [],
   "source": [
    "twitter_archive_enhanced_cleaning['rating']=twitter_archive_enhanced_cleaning.rating_numerator/twitter_archive_enhanced_cleaning.rating_denominator\n"
   ]
  },
  {
   "cell_type": "markdown",
   "id": "5c3cd293",
   "metadata": {},
   "source": [
    "## Test"
   ]
  },
  {
   "cell_type": "code",
   "execution_count": null,
   "id": "71da422f",
   "metadata": {
    "scrolled": true
   },
   "outputs": [],
   "source": [
    "twitter_archive_enhanced_cleaning.sample(7)"
   ]
  },
  {
   "cell_type": "markdown",
   "id": "fb882331",
   "metadata": {},
   "source": [
    "## Define \n",
    "\n",
    "* Create a column which conatins  the differnt age group of the dogs\n"
   ]
  },
  {
   "cell_type": "markdown",
   "id": "13f9337c",
   "metadata": {},
   "source": [
    "## Code"
   ]
  },
  {
   "cell_type": "code",
   "execution_count": null,
   "id": "efd97ef7",
   "metadata": {},
   "outputs": [],
   "source": [
    "twitter_archive_enhanced_cleaning=pd.melt(twitter_archive_enhanced_cleaning,id_vars=['tweet_id','timestamp','text','rating_numerator','rating_denominator','name','rating'],value_vars=['doggo','floofer','pupper','puppo'],value_name='dog_group')"
   ]
  },
  {
   "cell_type": "code",
   "execution_count": null,
   "id": "b3b211c1",
   "metadata": {},
   "outputs": [],
   "source": [
    "twitter_archive_enhanced_cleaning.head()"
   ]
  },
  {
   "cell_type": "markdown",
   "id": "53deb620",
   "metadata": {},
   "source": [
    "## Define \n",
    "\n",
    "* we  drop the variable column "
   ]
  },
  {
   "cell_type": "markdown",
   "id": "8969bfc1",
   "metadata": {},
   "source": [
    "## Code"
   ]
  },
  {
   "cell_type": "code",
   "execution_count": null,
   "id": "223f123b",
   "metadata": {},
   "outputs": [],
   "source": [
    "twitter_archive_enhanced_cleaning.drop('variable', inplace=True,axis=1)"
   ]
  },
  {
   "cell_type": "markdown",
   "id": "61314657",
   "metadata": {},
   "source": [
    "## Test"
   ]
  },
  {
   "cell_type": "code",
   "execution_count": null,
   "id": "45115d93",
   "metadata": {},
   "outputs": [],
   "source": [
    "twitter_archive_enhanced_cleaning.info()"
   ]
  },
  {
   "cell_type": "markdown",
   "id": "14576fc7",
   "metadata": {},
   "source": [
    "## Define\n",
    "* Drop all duplicates that exist because of the dog_group column created\n"
   ]
  },
  {
   "cell_type": "markdown",
   "id": "1ddf30ae",
   "metadata": {},
   "source": [
    "## Code"
   ]
  },
  {
   "cell_type": "code",
   "execution_count": null,
   "id": "7be46125",
   "metadata": {
    "scrolled": false
   },
   "outputs": [],
   "source": [
    "twitter_archive_enhanced_cleaning=twitter_archive_enhanced_cleaning.sort_values('dog_group')"
   ]
  },
  {
   "cell_type": "code",
   "execution_count": null,
   "id": "bee19962",
   "metadata": {},
   "outputs": [],
   "source": [
    "twitter_archive_enhanced_cleaning=twitter_archive_enhanced_cleaning.drop_duplicates(subset='tweet_id', keep='last')"
   ]
  },
  {
   "cell_type": "markdown",
   "id": "e010464d",
   "metadata": {},
   "source": [
    "## Test "
   ]
  },
  {
   "cell_type": "code",
   "execution_count": null,
   "id": "95e90bae",
   "metadata": {},
   "outputs": [],
   "source": [
    "twitter_archive_enhanced_cleaning.dog_group.value_counts()"
   ]
  },
  {
   "cell_type": "code",
   "execution_count": null,
   "id": "1a7d80e2",
   "metadata": {
    "scrolled": true
   },
   "outputs": [],
   "source": [
    "twitter_archive_enhanced_cleaning.head()"
   ]
  },
  {
   "cell_type": "code",
   "execution_count": null,
   "id": "91c52177",
   "metadata": {},
   "outputs": [],
   "source": [
    "twitter_archive_enhanced_cleaning.info()"
   ]
  },
  {
   "cell_type": "markdown",
   "id": "25e97653",
   "metadata": {},
   "source": [
    "#### Image Prediction"
   ]
  },
  {
   "cell_type": "code",
   "execution_count": null,
   "id": "870e5d1f",
   "metadata": {
    "scrolled": false
   },
   "outputs": [],
   "source": [
    "#we view randomly the image prediction dataset\n",
    "image_prediction_cleaning.sample(10)"
   ]
  },
  {
   "cell_type": "markdown",
   "id": "f138d84e",
   "metadata": {},
   "source": [
    "## Define \n",
    "* Create dog_breed that checks for the best predicted value is p1 then prints it else it checks for it and print it\n"
   ]
  },
  {
   "cell_type": "markdown",
   "id": "02c10df2",
   "metadata": {},
   "source": [
    "## Code"
   ]
  },
  {
   "cell_type": "code",
   "execution_count": null,
   "id": "e7e1197e",
   "metadata": {},
   "outputs": [],
   "source": [
    "def predicted_image(image_prediction_cleaning):\n",
    "    if image_prediction_cleaning.p1_dog==True:\n",
    "        return image_prediction_cleaning.p1\n",
    "    elif image_prediction_cleaning.p2_dog==True:\n",
    "        return image_prediction_cleaning.p2\n",
    "    elif image_prediction_cleaning.p3_dog==True:\n",
    "        return image_prediction_cleaning.p3\n",
    "    else:\n",
    "        return 'Error'"
   ]
  },
  {
   "cell_type": "markdown",
   "id": "c948973a",
   "metadata": {},
   "source": [
    "# Test"
   ]
  },
  {
   "cell_type": "code",
   "execution_count": null,
   "id": "29ec6eff",
   "metadata": {},
   "outputs": [],
   "source": [
    "image_prediction_cleaning['dog_breed']=image_prediction_cleaning.apply(predicted_image,axis=1)"
   ]
  },
  {
   "cell_type": "markdown",
   "id": "b50da28f",
   "metadata": {},
   "source": [
    "## Define \n",
    "* Create dog_breed that checks for the best predicted confidence level is p1 then prints it's value else it checks for others"
   ]
  },
  {
   "cell_type": "markdown",
   "id": "0165a3e9",
   "metadata": {},
   "source": [
    "## Code"
   ]
  },
  {
   "cell_type": "code",
   "execution_count": null,
   "id": "b6b5e270",
   "metadata": {},
   "outputs": [],
   "source": [
    "def predicted_confidence(image_prediction_cleaning):\n",
    "    if image_prediction_cleaning['p1_dog']==True:\n",
    "        return image_prediction_cleaning.p1_conf\n",
    "    elif image_prediction_cleaning.p2_dog==True:\n",
    "        return image_prediction_cleaning.p2_conf\n",
    "    elif image_prediction_cleaning.p3_dog==True:\n",
    "        return image_prediction_cleaning.p3_conf\n",
    "    else:\n",
    "        return 'error'"
   ]
  },
  {
   "cell_type": "markdown",
   "id": "8b961f01",
   "metadata": {},
   "source": [
    "## Test"
   ]
  },
  {
   "cell_type": "code",
   "execution_count": null,
   "id": "fcd747b0",
   "metadata": {},
   "outputs": [],
   "source": [
    "image_prediction_cleaning['Confidence_level']=image_prediction_cleaning.apply(predicted_confidence,axis=1)"
   ]
  },
  {
   "cell_type": "code",
   "execution_count": null,
   "id": "9ca001c2",
   "metadata": {
    "scrolled": true
   },
   "outputs": [],
   "source": [
    "image_prediction_cleaning.sample(10)"
   ]
  },
  {
   "cell_type": "markdown",
   "id": "9690dfdb",
   "metadata": {},
   "source": [
    "## Define \n",
    "* We  remove error values in the dog_breed column\n"
   ]
  },
  {
   "cell_type": "markdown",
   "id": "82a61d1d",
   "metadata": {},
   "source": [
    "## Code"
   ]
  },
  {
   "cell_type": "code",
   "execution_count": null,
   "id": "a62166f2",
   "metadata": {},
   "outputs": [],
   "source": [
    "image_prediction_cleaning=image_prediction_cleaning.loc[image_prediction_cleaning['dog_breed']!= 'Error']"
   ]
  },
  {
   "cell_type": "markdown",
   "id": "aa40c7a8",
   "metadata": {},
   "source": [
    "## Test "
   ]
  },
  {
   "cell_type": "code",
   "execution_count": null,
   "id": "dab1b865",
   "metadata": {},
   "outputs": [],
   "source": [
    "image_prediction_cleaning.dog_breed.value_counts()"
   ]
  },
  {
   "cell_type": "code",
   "execution_count": null,
   "id": "e6d7604b",
   "metadata": {},
   "outputs": [],
   "source": [
    "image_prediction_cleaning.info()"
   ]
  },
  {
   "cell_type": "code",
   "execution_count": null,
   "id": "c596f40c",
   "metadata": {},
   "outputs": [],
   "source": [
    "# we check for the list of the dataset so as to nable us drop unecessary columns\n",
    "list(image_prediction_cleaning)"
   ]
  },
  {
   "cell_type": "code",
   "execution_count": null,
   "id": "25a8ec6a",
   "metadata": {},
   "outputs": [],
   "source": [
    "best_prediction = image_prediction_cleaning.groupby(['p1_dog'])['p1_dog'].count()"
   ]
  },
  {
   "cell_type": "markdown",
   "id": "be33052c",
   "metadata": {},
   "source": [
    "## Define \n",
    "* Drop all columns that we will not be using"
   ]
  },
  {
   "cell_type": "markdown",
   "id": "53f33561",
   "metadata": {},
   "source": [
    "## Code"
   ]
  },
  {
   "cell_type": "code",
   "execution_count": null,
   "id": "539fe18f",
   "metadata": {},
   "outputs": [],
   "source": [
    "# we dropp all columns that we will not be using\n",
    "image_prediction_cleaning=image_prediction_cleaning.drop(columns={'p1',\n",
    " 'p1_conf',\n",
    " 'p1_dog',\n",
    " 'p2',\n",
    " 'p2_conf',\n",
    " 'p2_dog',\n",
    " 'p3',\n",
    " 'p3_conf',\n",
    " 'p3_dog'},axis=1)"
   ]
  },
  {
   "cell_type": "markdown",
   "id": "13e0d29f",
   "metadata": {},
   "source": [
    "## Test"
   ]
  },
  {
   "cell_type": "code",
   "execution_count": null,
   "id": "2db0e59c",
   "metadata": {},
   "outputs": [],
   "source": [
    "image_prediction_cleaning.info()"
   ]
  },
  {
   "cell_type": "markdown",
   "id": "f8e5df77",
   "metadata": {},
   "source": [
    "## Twitter API"
   ]
  },
  {
   "cell_type": "code",
   "execution_count": null,
   "id": "4f2691ee",
   "metadata": {
    "scrolled": true
   },
   "outputs": [],
   "source": [
    "twitter_api_cleaning.info()"
   ]
  },
  {
   "cell_type": "code",
   "execution_count": null,
   "id": "3e50875b",
   "metadata": {},
   "outputs": [],
   "source": [
    "twitter_api_cleaning.describe()"
   ]
  },
  {
   "cell_type": "markdown",
   "id": "9783477c",
   "metadata": {},
   "source": [
    "## STORING"
   ]
  },
  {
   "cell_type": "code",
   "execution_count": null,
   "id": "80be99f2",
   "metadata": {},
   "outputs": [],
   "source": [
    "# making a copy of all three dataset this dataset for reference purpose\n",
    "twitter_archive_enhanced_cleaning=twitter_archive_enhanced.copy()\n",
    "image_prediction_cleaning=image_prediction.copy()\n",
    "twitter_api_cleaning=twitter_api.copy()"
   ]
  },
  {
   "cell_type": "markdown",
   "id": "a1bae7ab",
   "metadata": {},
   "source": [
    "## Define\n",
    "* We create a new datframe that is used to merge the three dataset\n"
   ]
  },
  {
   "cell_type": "markdown",
   "id": "58dd494b",
   "metadata": {},
   "source": [
    "## Code"
   ]
  },
  {
   "cell_type": "code",
   "execution_count": null,
   "id": "1dea2e48",
   "metadata": {
    "scrolled": true
   },
   "outputs": [],
   "source": [
    "def total():\n",
    "    dfd=pd.merge(twitter_archive_enhanced_cleaning,image_prediction_cleaning, on='tweet_id',how='outer')             \n",
    "    return pd.merge(dfd, twitter_api, on='tweet_id',how='outer')\n",
    "                 \n",
    "                 \n",
    "df=total()"
   ]
  },
  {
   "cell_type": "markdown",
   "id": "42534570",
   "metadata": {},
   "source": [
    "## Test"
   ]
  },
  {
   "cell_type": "code",
   "execution_count": null,
   "id": "c0e17be2",
   "metadata": {},
   "outputs": [],
   "source": [
    "df.head()"
   ]
  },
  {
   "cell_type": "code",
   "execution_count": null,
   "id": "a5fdbe6c",
   "metadata": {},
   "outputs": [],
   "source": [
    "df.info()"
   ]
  },
  {
   "cell_type": "markdown",
   "id": "ae87a98b",
   "metadata": {},
   "source": [
    "## Define\n",
    "* We drop duplicates of the tweet_id\n",
    "\n"
   ]
  },
  {
   "cell_type": "markdown",
   "id": "f6f6fbc0",
   "metadata": {},
   "source": [
    "## Code"
   ]
  },
  {
   "cell_type": "code",
   "execution_count": null,
   "id": "b812801a",
   "metadata": {},
   "outputs": [],
   "source": [
    "df=df.drop_duplicates('tweet_id')"
   ]
  },
  {
   "cell_type": "markdown",
   "id": "fc1835d7",
   "metadata": {},
   "source": [
    "## Test"
   ]
  },
  {
   "cell_type": "code",
   "execution_count": null,
   "id": "35291d8c",
   "metadata": {},
   "outputs": [],
   "source": [
    "df.info()"
   ]
  },
  {
   "cell_type": "code",
   "execution_count": null,
   "id": "fb02167f",
   "metadata": {},
   "outputs": [],
   "source": [
    "#we check if the text has duplicates then we count them\n",
    "df.text.duplicated().value_counts()"
   ]
  },
  {
   "cell_type": "markdown",
   "id": "efaa86af",
   "metadata": {},
   "source": [
    "## Define\n",
    "* Store the new datset into a new file termed twitter_archive_master_csv\n"
   ]
  },
  {
   "cell_type": "markdown",
   "id": "6dc513ae",
   "metadata": {},
   "source": [
    "## Code"
   ]
  },
  {
   "cell_type": "code",
   "execution_count": null,
   "id": "788c5bb5",
   "metadata": {},
   "outputs": [],
   "source": [
    "df.to_csv('twitter_archive_master',index=False,header=False,encoding='utf-8')"
   ]
  },
  {
   "cell_type": "markdown",
   "id": "41d035a6",
   "metadata": {},
   "source": [
    "## Test"
   ]
  },
  {
   "cell_type": "code",
   "execution_count": null,
   "id": "20b35504",
   "metadata": {
    "scrolled": true
   },
   "outputs": [],
   "source": [
    "df.info()"
   ]
  },
  {
   "cell_type": "code",
   "execution_count": null,
   "id": "d349587e",
   "metadata": {},
   "outputs": [],
   "source": [
    "df.retweet_count.isna().sum()"
   ]
  },
  {
   "cell_type": "markdown",
   "id": "e32dcfc0",
   "metadata": {},
   "source": [
    "## Analysis "
   ]
  },
  {
   "cell_type": "code",
   "execution_count": null,
   "id": "0b65b4e2",
   "metadata": {
    "scrolled": true
   },
   "outputs": [],
   "source": [
    "#We checks for the counts of each dog age group\n",
    "df.dog_group.value_counts()"
   ]
  },
  {
   "cell_type": "code",
   "execution_count": null,
   "id": "99874d47",
   "metadata": {
    "scrolled": true
   },
   "outputs": [],
   "source": [
    "df2=df.query(\"dog_breed=='golden_retriever'\")\n",
    "df2.jpg_url.sample(4)"
   ]
  },
  {
   "cell_type": "code",
   "execution_count": null,
   "id": "29058edb",
   "metadata": {},
   "outputs": [],
   "source": [
    "Image(url=' https://pbs.twimg.com/media/CfN23ArXEAEkZkz.jpg')"
   ]
  },
  {
   "cell_type": "code",
   "execution_count": null,
   "id": "f41cd701",
   "metadata": {},
   "outputs": [],
   "source": [
    "df3=df.query(\"dog_breed=='Scotch_terrier'\")\n",
    "df3.jpg_url.sample(1)"
   ]
  },
  {
   "cell_type": "code",
   "execution_count": null,
   "id": "25dfc7e5",
   "metadata": {},
   "outputs": [],
   "source": [
    "Image(url='https://pbs.twimg.com/media/CZDT-mZWsAEK9BH.jpg')"
   ]
  },
  {
   "cell_type": "code",
   "execution_count": null,
   "id": "31fa51bb",
   "metadata": {
    "scrolled": true
   },
   "outputs": [],
   "source": [
    "#we plot a barh chart to show the top 10 dog breeds based on rating\n",
    "import plotly.express as px\n",
    "colour=[\"#1f77b4\", \"#ff7f0e\", \"#2ca02c\", \"#d62728\", \"#9467bd\", \"#8c564b\", \"#e377c2\", \"#7f7f7f\", \"#bcbd22\", \"#17becf\"]\n",
    "df_bar=df.groupby(['dog_breed'])['rating'].size().to_frame().sort_values(['rating'],ascending=False).head(10).reset_index().plot.barh(x='dog_breed',y='rating',color=colour,legend=False)\n",
    "plt.xlabel=('rating for dog breeds')\n",
    "plt.ylabel=('dog breed')\n",
    "plt.title('Histogram showing top ten(10) dog breed per rating')"
   ]
  },
  {
   "cell_type": "code",
   "execution_count": null,
   "id": "ca5bddf1",
   "metadata": {},
   "outputs": [],
   "source": [
    "#we plot a barh chart to show the top 10 dog breeds based on rating\n",
    "import plotly.express as px\n",
    "colour=[\"#1f77b4\", \"#ff7f0e\", \"#2ca02c\", \"#d62728\", \"#9467bd\", \"#8c564b\", \"#e377c2\", \"#7f7f7f\", \"#bcbd22\", \"#17becf\"]\n",
    "df_bar=df.groupby(['dog_breed'])['rating'].size().to_frame().sort_values(['rating'],ascending=False).tail(10).reset_index().plot.barh(x='dog_breed',y='rating',color=colour,legend=False)\n",
    "plt.xlabel=('rating for dog breeds')\n",
    "plt.ylabel=('dog breed')\n",
    "plt.title('Histogram showing bottom ten(10) dog breed per rating')"
   ]
  },
  {
   "cell_type": "code",
   "execution_count": null,
   "id": "4efe0b5f",
   "metadata": {
    "scrolled": true
   },
   "outputs": [],
   "source": [
    "df.groupby(['dog_breed','favorite_count']).size().to_frame().sort_values(['favorite_count'],ascending=False).head(10).reset_index().plot.bar(y='favorite_count',x='dog_breed',legend=False)\n",
    "plt.ylabel=('favorite count for dog breeds')\n",
    "plt.xlabel=('dog breed')\n",
    "plt.title('Bar chart showing top ten(10) dog breed per favorite count')"
   ]
  },
  {
   "cell_type": "code",
   "execution_count": null,
   "id": "da264abf",
   "metadata": {},
   "outputs": [],
   "source": [
    "df.groupby(['dog_breed','retweet_count']).size().to_frame().sort_values(['retweet_count'],ascending=False).head(10).reset_index().plot.bar(y='retweet_count',x='dog_breed',legend=False)\n",
    "plt.ylabel=('retweet count for dog breeds')\n",
    "plt.xlabel=('dog breed')\n",
    "plt.title('Bar chart showing top ten(10) dog breed per retweet count')"
   ]
  },
  {
   "cell_type": "code",
   "execution_count": null,
   "id": "0dc036ec",
   "metadata": {
    "scrolled": true
   },
   "outputs": [],
   "source": [
    "#we describe the data based on the dog group which will show the mean,median,standard deviation etc for each column\n",
    "df.groupby('dog_breed').describe().sort_values(['dog_breed'],ascending=False).head(20).reset_index()"
   ]
  },
  {
   "cell_type": "code",
   "execution_count": null,
   "id": "22314121",
   "metadata": {},
   "outputs": [],
   "source": []
  },
  {
   "cell_type": "code",
   "execution_count": null,
   "id": "ab2d9f78",
   "metadata": {},
   "outputs": [],
   "source": [
    "sns.set(rc={\"figure.figsize\": (10, 8)}, font_scale=2)\n",
    "\n",
    "def plot_pie_chart():\n",
    "    colors = sns.color_palette('bright')\n",
    "    plt.title('Image prediction Accuracy for p1_dog group')\n",
    "    labels = ['False', 'True']\n",
    "    plt.pie(best_prediction, labels=labels,\n",
    "            colors=colors, autopct='%.0f%%')\n",
    "\n",
    "\n",
    "plot_pie_chart()\n"
   ]
  },
  {
   "cell_type": "markdown",
   "id": "9479e7ad",
   "metadata": {},
   "source": [
    "# References\n",
    "* https://stackoverflow.com/questions/28384588/twitter-api-get-tweets-with-specific-id\n",
    "* https://www.shanelynn.ie/pandas-drop-delete-dataframe-rows-columns/\n"
   ]
  },
  {
   "cell_type": "code",
   "execution_count": null,
   "id": "f76d12b3",
   "metadata": {},
   "outputs": [],
   "source": []
  }
 ],
 "metadata": {
  "kernelspec": {
   "display_name": "Python 3 (ipykernel)",
   "language": "python",
   "name": "python3"
  },
  "language_info": {
   "codemirror_mode": {
    "name": "ipython",
    "version": 3
   },
   "file_extension": ".py",
   "mimetype": "text/x-python",
   "name": "python",
   "nbconvert_exporter": "python",
   "pygments_lexer": "ipython3",
   "version": "3.9.12"
  }
 },
 "nbformat": 4,
 "nbformat_minor": 5
}
