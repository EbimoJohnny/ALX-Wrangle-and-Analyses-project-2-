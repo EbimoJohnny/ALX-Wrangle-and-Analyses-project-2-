{
 "cells": [
  {
   "cell_type": "markdown",
   "metadata": {},
   "source": [
    "# Wrangle Report For the Project"
   ]
  },
  {
   "cell_type": "markdown",
   "metadata": {},
   "source": [
    "### Project Overview"
   ]
  },
  {
   "cell_type": "markdown",
   "metadata": {},
   "source": [
    "This is a project where we seek to wrangle three dataset which are on the rating of Dogs following their twitter rating. this is WeRateDogs which is a Twitter account that rates people's dogs with a humorous comment about the dog it also include their image . the task include:\n",
    "\n",
    "* Gathering data\n",
    "\n",
    "* Assessing data\n",
    "\n",
    "* Cleaning data\n",
    "\n",
    "* Storing data\n",
    "\n",
    "* Analyzing, and visualizing data\n",
    "\n",
    "* Reporting\n",
    "\n",
    "The dataset include:\n",
    "* Enhanced Twitter Archive: The WeRateDogs Twitter archive contains basic tweet data for all 5000+ of their tweets, but not everything. One column the archive does contain though: each tweet's text, which I used to extract rating, dog name, and dog \"stage\" (i.e. doggo, floofer, pupper, and puppo) to make this Twitter archive \"enhanced.\n",
    "\n",
    "\n",
    " * Additional Data via the Twitter API: The first datset wasn't containing the retweet and favourite count which will be important to understand the data , but with the use of the API we can get them based on the tweet ID.\n",
    " \n",
    " \n",
    " * Image Predictions File: We now use neural network to predict the dog breed based on the image of the dog, we have also a confidence level based on the predicted image."
   ]
  },
  {
   "cell_type": "markdown",
   "metadata": {},
   "source": [
    "### Gathering Data\n",
    "To gather the required data we import all the needed libararies this include:\n",
    "os,\n",
    ",json\n",
    ",pandas as pd\n",
    ",numpy as np\n",
    ",matplotlib.pyplot as plt\n",
    ",seaborn as sns\n",
    ",requests\n",
    ",tweepy\n",
    ",OAuthHandler\n",
    ",default_timer as timer\n",
    ",we then move to gather them by the following: \n",
    "\n",
    "* **Enhanced Twitter Archive**: We download this file and then import it. It is a csv file and so we just use pandas to import and run it.\n",
    "\n",
    "* **Tweet image predictions**: This is .tsv file hosted on the udacity server, so we also this by request and get the url data so we can use it.\n",
    "\n",
    "* **Data from the Twitter API**: we use the tweepy library to query the json data then we save the data as a  .csv file this will includ the tweet_ID, retweet count and favorite count."
   ]
  },
  {
   "cell_type": "markdown",
   "metadata": {},
   "source": [
    "### Assessing Data\n",
    "\n",
    "**we assess this data using two differnt method because of the data size. We do this two check for quality issues and for tidiness issues.**\n",
    "* Visual assessment: each piece of gathered data is displayed in the Jupyter Notebook for visual assessment purposes. Once displayed, data can additionally be assessed in an external application (e.g. Excel, text editor).\n",
    "* Programmatic assessment: pandas' functions and/or  methods are used to assess the data."
   ]
  },
  {
   "cell_type": "markdown",
   "metadata": {},
   "source": [
    "## Cleaning Data\n",
    "\n",
    "We made a copy of all the dataset for reference purpose. We then clean all issues identified during assessing of the data. \n",
    "This is done by droping columns are not important for analysis, also drop all unrelated empty entries.\n",
    "\n",
    "we also had to merge the dog age group to one column and by this we have to deal with the 'none' values to remove those we need to. we also had to programatically change detect some vakues in the rating_numerator column that are not gotten correctly and manually fill them, we then generate the rating column which is the division of the numerator and denominator rating column. \n",
    "\n",
    "correcction of tidyness issues on the datatype of some of the columns were also done during the cleaning stage.\n"
   ]
  },
  {
   "cell_type": "markdown",
   "metadata": {},
   "source": [
    "### Storing Data\n",
    "we use each of the dataset that have been cleaned to merge to one dataset which is the master dataset and it is saved as .csv."
   ]
  },
  {
   "cell_type": "markdown",
   "metadata": {},
   "source": [
    "### Analyzing and Visualizing Data and Conclusion\n",
    "\n",
    "Genrating insightful visualization was done and we got that the lakeland-terrier retrevier dog breed had the second highest rating, and we see that this gotten by it been the highest in retweet count and also for favourite count. "
   ]
  },
  {
   "cell_type": "code",
   "execution_count": null,
   "metadata": {},
   "outputs": [],
   "source": []
  }
 ],
 "metadata": {
  "kernelspec": {
   "display_name": "Python 3",
   "language": "python",
   "name": "python3"
  },
  "language_info": {
   "codemirror_mode": {
    "name": "ipython",
    "version": 3
   },
   "file_extension": ".py",
   "mimetype": "text/x-python",
   "name": "python",
   "nbconvert_exporter": "python",
   "pygments_lexer": "ipython3",
   "version": "3.6.3"
  }
 },
 "nbformat": 4,
 "nbformat_minor": 2
}
